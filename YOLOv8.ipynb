{
  "nbformat": 4,
  "nbformat_minor": 0,
  "metadata": {
    "colab": {
      "provenance": []
    },
    "kernelspec": {
      "name": "python3",
      "display_name": "Python 3"
    },
    "language_info": {
      "name": "python"
    },
    "accelerator": "GPU",
    "gpuClass": "standard"
  },
  "cells": [
    {
      "cell_type": "markdown",
      "source": [
        "#Setup thư viện"
      ],
      "metadata": {
        "id": "Passfcr-JIbO"
      }
    },
    {
      "cell_type": "code",
      "execution_count": null,
      "metadata": {
        "id": "vnKa553pCVDq"
      },
      "outputs": [],
      "source": [
        "!pip install ultralytics"
      ]
    },
    {
      "cell_type": "markdown",
      "source": [
        "#Predict với pretrain weights"
      ],
      "metadata": {
        "id": "nYDoXVtuJUws"
      }
    },
    {
      "cell_type": "code",
      "source": [
        "# Download pretrain model Yolov8n - Nhanh\n",
        "!wget https://github.com/ultralytics/assets/releases/download/v0.0.0/yolov8n.pt"
      ],
      "metadata": {
        "id": "q4mYjKPbJXz9"
      },
      "execution_count": null,
      "outputs": []
    },
    {
      "cell_type": "code",
      "source": [
        "# Predict detection bằng CLI\n",
        "!yolo task=detect mode=predict model=yolov8n.pt source=\"https://nextcity.org/images/made/219951734_2838e034bb_o_840_630_80.jpg\""
      ],
      "metadata": {
        "id": "3JoPAl15Jv7n"
      },
      "execution_count": null,
      "outputs": []
    },
    {
      "cell_type": "code",
      "source": [
        "# Predict detect bằng Python API\n",
        "from ultralytics import YOLO\n",
        "\n",
        "model = YOLO(\"yolov8n.pt\")\n",
        "results = model.predict(show=True, source=\"0\")# source=\"https://nextcity.org/images/made/219951734_2838e034bb_o_840_630_80.jpg\")\n",
        "\n",
        "# print(results)"
      ],
      "metadata": {
        "id": "WapMNmV6KSOf"
      },
      "execution_count": null,
      "outputs": []
    },
    {
      "cell_type": "code",
      "source": [
        "# Download pretrain segmentation \n",
        "!wget https://github.com/ultralytics/assets/releases/download/v0.0.0/yolov8n-seg.pt"
      ],
      "metadata": {
        "id": "RwVWoK5qLXe_"
      },
      "execution_count": null,
      "outputs": []
    },
    {
      "cell_type": "code",
      "source": [
        "# Thử predict segmentation\n",
        "!yolo task=segment mode=predict model=yolov8n-seg.pt source=\"https://nextcity.org/images/made/219951734_2838e034bb_o_840_630_80.jpg\""
      ],
      "metadata": {
        "colab": {
          "base_uri": "https://localhost:8080/"
        },
        "id": "Z0jCFJx4LebN",
        "outputId": "681dda70-f8d7-49d8-d1d8-5e7c0add0c52"
      },
      "execution_count": 7,
      "outputs": [
        {
          "output_type": "stream",
          "name": "stdout",
          "text": [
            "Ultralytics YOLOv8.0.25 🚀 Python-3.8.10 torch-1.13.1+cu116 CUDA:0 (Tesla T4, 15110MiB)\n",
            "YOLOv8n-seg summary (fused): 195 layers, 3404320 parameters, 0 gradients, 12.6 GFLOPs\n",
            "\n",
            "Found https://nextcity.org/images/made/219951734_2838e034bb_o_840_630_80.jpg locally at 219951734_2838e034bb_o_840_630_80.jpg\n",
            "image 1/1 /content/219951734_2838e034bb_o_840_630_80.jpg: 480x640 11 persons, 5 bicycles, 3 motorcycles, 18.5ms\n",
            "Speed: 0.5ms pre-process, 18.5ms inference, 3.4ms postprocess per image at shape (1, 3, 640, 640)\n",
            "Results saved to \u001b[1mruns/segment/predict\u001b[0m\n"
          ]
        }
      ]
    },
    {
      "cell_type": "markdown",
      "source": [
        "# Train với custom data\n"
      ],
      "metadata": {
        "id": "SIqqGt5kL6hv"
      }
    },
    {
      "cell_type": "code",
      "source": [
        "# Giải nén file data và tổ chức vào thư mục train\n",
        "\n",
        "# Extract zip data file\n",
        "%cd /content/drive/MyDrive/data\n",
        "!unzip /content/drive/MyDrive/data/firedata.zip\n",
        "\n",
        "# Tổ chức lại các file\n",
        "%cd /content/drive/MyDrive/data\n",
        "!mkdir train\n",
        "!mkdir train/images\n",
        "!mkdir train/labels\n",
        "!mv *.jpg train/images\n",
        "!mv *.txt train/labels"
      ],
      "metadata": {
        "id": "BH4qhpaaL8Xe"
      },
      "execution_count": null,
      "outputs": []
    },
    {
      "cell_type": "code",
      "source": [
        "# Create training yaml file\n",
        "%cd /content/drive/MyDrive\n",
        "!rm data/mydataset.yaml # nếu có file thì xóa\n",
        "!echo 'train: /content/drive/MyDrive/data/train' >> data/mydataset.yaml\n",
        "!echo 'val: /content/drive/MyDrive/data/train' >> data/mydataset.yaml\n",
        "!echo 'nc: 1' >> data/mydataset.yaml\n",
        "!echo \"names: ['fire']\" >> data/mydataset.yaml"
      ],
      "metadata": {
        "colab": {
          "base_uri": "https://localhost:8080/"
        },
        "id": "HuabeWEJMWQp",
        "outputId": "b6987741-d472-40c7-adb5-abeea80d0e54"
      },
      "execution_count": 8,
      "outputs": [
        {
          "output_type": "stream",
          "name": "stdout",
          "text": [
            "/content/drive/MyDrive\n"
          ]
        }
      ]
    },
    {
      "cell_type": "code",
      "source": [
        "# Train với CLI\n",
        "!yolo task=detect mode=train model=yolov8n.pt data=data/mydataset.yaml epochs=1 imgsz=640"
      ],
      "metadata": {
        "id": "xFX5CKryM2VU"
      },
      "execution_count": null,
      "outputs": []
    },
    {
      "cell_type": "code",
      "source": [
        "# Train với Python API\n",
        "from ultralytics import YOLO\n",
        "\n",
        "model = YOLO(\"yolov8n.pt\") # Load pretrain và finetune vài layer cuối. Transfer LEarning\n",
        "\n",
        "results = model.train(data=\"data/mydataset.yaml\", epochs=1)"
      ],
      "metadata": {
        "id": "A6SY3ZWINwv0"
      },
      "execution_count": null,
      "outputs": []
    },
    {
      "cell_type": "code",
      "source": [
        "# Detect thử với weights mới train thì làm ntn?\n",
        "!yolo task=detect mode=predict model=\"/content/drive/MyDrive/runs/detect/train3/weights/last.pt\" source=\"https://i-vnexpress.vnecdn.net/2019/03/23/chay-1-3737-1553317413.jpg\""
      ],
      "metadata": {
        "colab": {
          "base_uri": "https://localhost:8080/"
        },
        "id": "GcOjiex0OKxm",
        "outputId": "8a6f20d9-5517-4bfe-8571-f5edbfd12ae7"
      },
      "execution_count": 11,
      "outputs": [
        {
          "output_type": "stream",
          "name": "stdout",
          "text": [
            "Ultralytics YOLOv8.0.25 🚀 Python-3.8.10 torch-1.13.1+cu116 CUDA:0 (Tesla T4, 15110MiB)\n",
            "Model summary (fused): 168 layers, 3005843 parameters, 0 gradients, 8.1 GFLOPs\n",
            "\n",
            "Found https://i-vnexpress.vnecdn.net/2019/03/23/chay-1-3737-1553317413.jpg locally at chay-1-3737-1553317413.jpg\n",
            "image 1/1 /content/drive/MyDrive/chay-1-3737-1553317413.jpg: 448x640 1 fire, 13.5ms\n",
            "Speed: 0.7ms pre-process, 13.5ms inference, 1.7ms postprocess per image at shape (1, 3, 640, 640)\n",
            "Results saved to \u001b[1mruns/detect/predict6\u001b[0m\n"
          ]
        }
      ]
    }
  ]
}